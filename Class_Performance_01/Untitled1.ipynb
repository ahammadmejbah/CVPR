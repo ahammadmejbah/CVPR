{
 "cells": [
  {
   "cell_type": "code",
   "execution_count": 3,
   "id": "c656ba5e-5e6d-4c88-9366-d1954cc1c4a7",
   "metadata": {},
   "outputs": [],
   "source": [
    "import math\n",
    "import random\n",
    "import numpy as np\n",
    "import pandas as pd\n",
    "import matplotlib.pyplot as plt\n",
    "%matplotlib inline"
   ]
  },
  {
   "cell_type": "code",
   "execution_count": 12,
   "id": "de40a8b8-0fa6-4a29-8539-08184109dee6",
   "metadata": {},
   "outputs": [
    {
     "ename": "NameError",
     "evalue": "name 'numpy' is not defined",
     "output_type": "error",
     "traceback": [
      "\u001b[0;31m---------------------------------------------------------------------------\u001b[0m",
      "\u001b[0;31mNameError\u001b[0m                                 Traceback (most recent call last)",
      "\u001b[0;32m/var/folders/n1/1mbd3xvj2vn04hkzn8y0lg580000gn/T/ipykernel_26550/845460122.py\u001b[0m in \u001b[0;36m<module>\u001b[0;34m\u001b[0m\n\u001b[1;32m     12\u001b[0m \u001b[0mtarget\u001b[0m \u001b[0;34m=\u001b[0m \u001b[0;34m[\u001b[0m\u001b[0;34m]\u001b[0m\u001b[0;34m\u001b[0m\u001b[0;34m\u001b[0m\u001b[0m\n\u001b[1;32m     13\u001b[0m \u001b[0;32mfor\u001b[0m \u001b[0m_\u001b[0m \u001b[0;32min\u001b[0m \u001b[0mrange\u001b[0m\u001b[0;34m(\u001b[0m\u001b[0;36m100\u001b[0m\u001b[0;34m)\u001b[0m\u001b[0;34m:\u001b[0m\u001b[0;34m\u001b[0m\u001b[0;34m\u001b[0m\u001b[0m\n\u001b[0;32m---> 14\u001b[0;31m     \u001b[0mvalue\u001b[0m \u001b[0;34m=\u001b[0m \u001b[0mnumpy\u001b[0m\u001b[0;34m.\u001b[0m\u001b[0mrandom\u001b[0m\u001b[0;34m.\u001b[0m\u001b[0mchoice\u001b[0m\u001b[0;34m(\u001b[0m\u001b[0;34m[\u001b[0m\u001b[0;36m0\u001b[0m\u001b[0;34m,\u001b[0m \u001b[0;36m1\u001b[0m\u001b[0;34m]\u001b[0m\u001b[0;34m)\u001b[0m\u001b[0;34m\u001b[0m\u001b[0;34m\u001b[0m\u001b[0m\n\u001b[0m\u001b[1;32m     15\u001b[0m     \u001b[0mtarget\u001b[0m\u001b[0;34m.\u001b[0m\u001b[0mappend\u001b[0m\u001b[0;34m(\u001b[0m\u001b[0mvalue\u001b[0m\u001b[0;34m)\u001b[0m\u001b[0;34m\u001b[0m\u001b[0;34m\u001b[0m\u001b[0m\n",
      "\u001b[0;31mNameError\u001b[0m: name 'numpy' is not defined"
     ]
    }
   ],
   "source": [
    "X = []\n",
    "for _ in range(100):\n",
    "    value = random.random()\n",
    "    X.append(value)\n",
    "\n",
    "Y = []\n",
    "for _ in range(100):\n",
    "    value = random.random()\n",
    "    Y.append(value)\n",
    "    \n",
    "    \n",
    "target = []\n",
    "for _ in range(100):\n",
    "    value = np.random.choice([0, 1])\n",
    "    target.append(value)"
   ]
  },
  {
   "cell_type": "code",
   "execution_count": 7,
   "id": "5733fe8c-9dba-446c-a218-4033aa39b004",
   "metadata": {},
   "outputs": [],
   "source": [
    "data = {'X': X,\n",
    "        'Y': Y,\n",
    "        'Target': target\n",
    "        }"
   ]
  },
  {
   "cell_type": "code",
   "execution_count": 8,
   "id": "8a989cfe-ccb4-40de-85e2-426399305888",
   "metadata": {},
   "outputs": [],
   "source": [
    "data = pd.DataFrame(data, columns= ['X', 'Y', 'Target'])"
   ]
  },
  {
   "cell_type": "code",
   "execution_count": 9,
   "id": "c20c8f40-98d6-4f2a-8600-ace0922ff0ef",
   "metadata": {},
   "outputs": [],
   "source": [
    "data.to_csv(\"Datasets.csv\", index=False)"
   ]
  },
  {
   "cell_type": "code",
   "execution_count": 10,
   "id": "51cb528a-a2c1-4574-8221-c014ea0c6f0e",
   "metadata": {},
   "outputs": [],
   "source": [
    "datasets = pd.read_csv(\"Datasets.csv\")"
   ]
  },
  {
   "cell_type": "code",
   "execution_count": 11,
   "id": "17dd5ce1-7534-4a28-aea9-cd5b0498e0c4",
   "metadata": {},
   "outputs": [
    {
     "data": {
      "text/html": [
       "<div>\n",
       "<style scoped>\n",
       "    .dataframe tbody tr th:only-of-type {\n",
       "        vertical-align: middle;\n",
       "    }\n",
       "\n",
       "    .dataframe tbody tr th {\n",
       "        vertical-align: top;\n",
       "    }\n",
       "\n",
       "    .dataframe thead th {\n",
       "        text-align: right;\n",
       "    }\n",
       "</style>\n",
       "<table border=\"1\" class=\"dataframe\">\n",
       "  <thead>\n",
       "    <tr style=\"text-align: right;\">\n",
       "      <th></th>\n",
       "      <th>X</th>\n",
       "      <th>Y</th>\n",
       "      <th>Target</th>\n",
       "    </tr>\n",
       "  </thead>\n",
       "  <tbody>\n",
       "    <tr>\n",
       "      <th>0</th>\n",
       "      <td>0.542549</td>\n",
       "      <td>0.902543</td>\n",
       "      <td>0.261666</td>\n",
       "    </tr>\n",
       "    <tr>\n",
       "      <th>1</th>\n",
       "      <td>0.936598</td>\n",
       "      <td>0.155910</td>\n",
       "      <td>0.917805</td>\n",
       "    </tr>\n",
       "    <tr>\n",
       "      <th>2</th>\n",
       "      <td>0.034170</td>\n",
       "      <td>0.615808</td>\n",
       "      <td>0.051106</td>\n",
       "    </tr>\n",
       "    <tr>\n",
       "      <th>3</th>\n",
       "      <td>0.558317</td>\n",
       "      <td>0.355654</td>\n",
       "      <td>0.280169</td>\n",
       "    </tr>\n",
       "    <tr>\n",
       "      <th>4</th>\n",
       "      <td>0.715067</td>\n",
       "      <td>0.638438</td>\n",
       "      <td>0.498866</td>\n",
       "    </tr>\n",
       "  </tbody>\n",
       "</table>\n",
       "</div>"
      ],
      "text/plain": [
       "          X         Y    Target\n",
       "0  0.542549  0.902543  0.261666\n",
       "1  0.936598  0.155910  0.917805\n",
       "2  0.034170  0.615808  0.051106\n",
       "3  0.558317  0.355654  0.280169\n",
       "4  0.715067  0.638438  0.498866"
      ]
     },
     "execution_count": 11,
     "metadata": {},
     "output_type": "execute_result"
    }
   ],
   "source": [
    "datasets.head()"
   ]
  },
  {
   "cell_type": "code",
   "execution_count": null,
   "id": "2923af52-7221-4b54-97b9-f55803373d49",
   "metadata": {},
   "outputs": [],
   "source": []
  },
  {
   "cell_type": "code",
   "execution_count": null,
   "id": "c4228455-9a19-4d4a-98f4-45d76470aaf7",
   "metadata": {},
   "outputs": [],
   "source": [
    "plt.figure()\n",
    "\n",
    "for i in range(len(datasets['Target'])):\n",
    "    if datasets['Target'].iloc[i] == 0:\n",
    "        plt.plot(datasets['X'].iloc[i], datasets['Y'].iloc[i], \"ro\")\n",
    "    else:\n",
    "        plt.plot(datasets['X'].iloc[i], datasets['Y'].iloc[i], \"go\")\n",
    "        \n",
    "plt.show()"
   ]
  },
  {
   "cell_type": "code",
   "execution_count": null,
   "id": "447a0725-8ef1-46af-a048-c0bfc87dddb7",
   "metadata": {},
   "outputs": [],
   "source": [
    "W = [np.random.random(), np.random.random()]\n",
    "b = np.random.random()\n",
    "\n",
    "print(W, b)\n",
    "\n",
    "lr=0.02\n",
    "theta=0.5"
   ]
  },
  {
   "cell_type": "code",
   "execution_count": null,
   "id": "f9bb2d83-89fc-4dbf-b9d3-a99bd7b8db1c",
   "metadata": {},
   "outputs": [],
   "source": [
    "epoch = 0\n",
    "count = 0\n",
    "\n",
    "while count < 4:\n",
    "    \n",
    "    total_error = 0\n",
    "    print(f\"Epoch: {epoch}\")\n",
    "    for i in range(len(datasets['X'])):\n",
    "        weighted_sum = W[0]*datasets['X'].iloc[i] + W[1]*datasets['Y'].iloc[i] + b\n",
    "        pred = 0\n",
    "        if weighted_sum > theta:\n",
    "            pred = 1\n",
    "        \n",
    "        error =  datasets['Target'].iloc[i] - pred\n",
    "        if error != 0:\n",
    "            count = 0\n",
    "            total_error += math.sqrt(error**2)\n",
    "            \n",
    "            W[0] += lr * error * datasets['X'].iloc[i]\n",
    "            W[1] += lr * error * datasets['Y'].iloc[i]\n",
    "            b    += lr * error\n",
    "        else:\n",
    "            count += 1\n",
    "\n",
    "        print(f\"[{datasets['X'].iloc[i]} , {datasets['Y'][i]}] = {pred}\")\n",
    "    \n",
    "    print(f\"Loss: {total_error}\")\n",
    "    print(\"===------------------------------===\")\n",
    "    epoch += 1"
   ]
  },
  {
   "cell_type": "code",
   "execution_count": null,
   "id": "3ce72ff8-6bb5-4326-8799-28d23123c88f",
   "metadata": {},
   "outputs": [],
   "source": [
    "print(\"W0 = \", W[0])\n",
    "print(\"W1 = \", W[1])\n",
    "print(\"b = \", b)"
   ]
  },
  {
   "cell_type": "code",
   "execution_count": null,
   "id": "87caaf94-6d9a-441f-a43c-7c23a6fc94aa",
   "metadata": {},
   "outputs": [],
   "source": [
    "plt.figure()\n",
    "\n",
    "for i in range(len(datasets['Target'])):\n",
    "    if Y[i] == 0:\n",
    "        plt.plot(datasets['X'].iloc[i], datasets['Y'].iloc[i], \"ro\")\n",
    "    else:\n",
    "        plt.plot(datasets['X'].iloc[i], datasets['Y'].iloc[i], \"go\")\n",
    "        \n",
    "\n",
    "xintr=(theta-b)/W[0]\n",
    "yintr=(theta-b)/W[1]\n",
    "\n",
    "slope=-yintr/xintr\n",
    "xx=plt.xlim()\n",
    "yeq = []\n",
    "for x in xx:\n",
    "    yeq.append(slope*x+yintr)\n",
    "plt.plot(xx,yeq)\n",
    "plt.show()\n"
   ]
  },
  {
   "cell_type": "code",
   "execution_count": null,
   "id": "b9851bfd-5746-4bc5-acd4-8a8f4d603acb",
   "metadata": {},
   "outputs": [],
   "source": [
    "X1 = datasets[\"X\"].values.tolist()\n",
    "X2 = datasets[\"Y\"].values.tolist()\n",
    "Y = datasets[\"Target\"].values.tolist()\n",
    "\n",
    "for i in range(len(Y)):\n",
    "    if Y[i] == 0:\n",
    "        plt.plot(X1[i], X2[i], \"r+\")\n",
    "    else:\n",
    "        plt.plot(X1[i], X2[i], \"g+\")"
   ]
  },
  {
   "cell_type": "code",
   "execution_count": null,
   "id": "1dbbc0a3-d786-497d-a23d-7d4e9801f408",
   "metadata": {},
   "outputs": [],
   "source": [
    "import matplotlib.pyplot as plt\n",
    "import numpy as np\n",
    "import random\n",
    "import math\n",
    "from IPython import display\n",
    "from scipy.signal import savgol_filter\n",
    "\n",
    "\n",
    "W = [random.random(), random.random()]\n",
    "b = random.random()\n",
    "\n",
    "# W = [random.uniform(-1,1), random.uniform(-1,1)]\n",
    "# b = random.uniform(-1,1)\n",
    "\n",
    "lr = 0.1\n",
    "theta=0.5\n",
    "\n",
    "epoch = 0\n",
    "count = 0\n",
    "\n",
    "\n",
    "loss = []\n",
    "\n",
    "while count < len(X1):\n",
    "    \n",
    "    total_error = 0\n",
    "    for i in range(len(X1)):\n",
    "        weighted_sum = W[0]*X1[i] + W[1]*X2[i] + b\n",
    "        pred = 0\n",
    "        if weighted_sum > theta:\n",
    "            pred = 1\n",
    "\n",
    "        error =  Y[i] - pred\n",
    "        if error != 0:\n",
    "            count = 0\n",
    "            total_error += math.sqrt(error**2)\n",
    "            \n",
    "            W[0] += lr * error * X1[i]\n",
    "            W[1] += lr * error * X2[i]\n",
    "            b    += lr * error\n",
    "        else:\n",
    "            count += 1\n",
    "    \n",
    "    loss.append(1/len(X1)*total_error)\n",
    "    \n",
    "    plt.figure(figsize=(20,5))\n",
    "    #loss.append([epoch, total_error])   \n",
    "    display.clear_output(wait=True)\n",
    "    plt.subplot(1,2,1)\n",
    "\n",
    "    for i in range(len(Y)):\n",
    "        if Y[i] == 0:\n",
    "            plt.plot(X1[i], X2[i], \"r+\")\n",
    "        else:\n",
    "            plt.plot(X1[i], X2[i], \"g+\")\n",
    "\n",
    "        plt.xlim([-10, 110])\n",
    "        plt.ylim([-10, 110])\n",
    "\n",
    "        xintr=(theta-b)/W[0]\n",
    "        yintr=(theta-b)/W[1]\n",
    "\n",
    "        slope = -yintr/xintr\n",
    "        xx = plt.xlim()\n",
    "#                 print(xx)\n",
    "        yeq = []\n",
    "        for x in xx:\n",
    "            yeq.append(slope*x+yintr)\n",
    "        plt.plot(xx,yeq, 'b-')\n",
    "\n",
    "    plt.title(f\"Epoch: {epoch} Loss: {total_error}\")\n",
    "\n",
    "    plt.subplot(1,2,2)\n",
    "    plt.plot(loss, alpha=0.3)\n",
    "    if epoch > 20:\n",
    "        yhat = savgol_filter(loss, 21, 3) # window size 51, polynomial order 3\n",
    "        plt.plot(yhat, 'r--', lw=3)\n",
    "\n",
    "    plt.show()\n",
    "            \n",
    "    print(f\"Epoch: {epoch} Loss: {loss[-1]}\")\n",
    "    epoch += 1\n",
    "        "
   ]
  }
 ],
 "metadata": {
  "kernelspec": {
   "display_name": "Python 3 (ipykernel)",
   "language": "python",
   "name": "python3"
  },
  "language_info": {
   "codemirror_mode": {
    "name": "ipython",
    "version": 3
   },
   "file_extension": ".py",
   "mimetype": "text/x-python",
   "name": "python",
   "nbconvert_exporter": "python",
   "pygments_lexer": "ipython3",
   "version": "3.7.11"
  }
 },
 "nbformat": 4,
 "nbformat_minor": 5
}
