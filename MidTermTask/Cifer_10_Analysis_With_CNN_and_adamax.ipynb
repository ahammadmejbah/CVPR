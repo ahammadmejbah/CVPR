{
 "cells": [
  {
   "cell_type": "markdown",
   "metadata": {},
   "source": [
    "## **<span style=\"color:#023e8a;font-size:200%\"><center> 🔥🔥 Cifer-10 Analysis 🔥🔥</center></span>**\n",
    "## **<center><span style=\"color:#FEF1FE;background-color:#023e8a;border-radius: 5px;padding: 5px\">Create Usefull Notebook for Cifer-10 Datasets with the different Condition</span></center>**\n",
    "## **<center><span style=\"color:#FEF1FE;background-color:#023e8a;border-radius: 5px;padding: 5px\">Name: Mejbah Ahammad</span></center>**\n",
    "## **<center><span style=\"color:#FEF1FE;background-color:#023e8a;border-radius: 5px;padding: 5px\">Student ID: 22-92357-1</span></center>**"
   ]
  },
  {
   "cell_type": "markdown",
   "metadata": {},
   "source": [
    "The **CIFAR-10 dataset** consists of 60000 32x32 colour images in 10 classes, with 6000 images per class. There are 50000 training images and 10000 test images. For completing this assignment i have taken some steps to make it smooth and clear getting the clear information at a glance what i have done on it.\n",
    "\n",
    "Now, performing this assignment i have taken few necessary module for analysis the meta-data of the raw datasets. They are following:\n",
    "\n",
    "\n",
    "<span style=\"color:#FEF1FE;background-color:#023e8a;border-radius: 5px;padding: 5px\">Numpy</span>\n",
    "<span style=\"color:#FEF1FE;background-color:#023e8a;border-radius: 5px;padding: 5px\">Pandas</span>\n",
    "<span style=\"color:#FEF1FE;background-color:#023e8a;border-radius: 5px;padding: 5px\">Mapltolib</span>\n",
    "<span style=\"color:#FEF1FE;background-color:#023e8a;border-radius: 5px;padding: 5px\">Random</span>\n",
    "<span style=\"color:#FEF1FE;background-color:#023e8a;border-radius: 5px;padding: 5px\">OpenCV</span>\n",
    "<span style=\"color:#FEF1FE;background-color:#023e8a;border-radius: 5px;padding: 5px\">Keras</span>\n",
    "<span style=\"color:#FEF1FE;background-color:#023e8a;border-radius: 5px;padding: 5px\">TensorFlow</span>\n",
    "<span style=\"color:#FEF1FE;background-color:#023e8a;border-radius: 5px;padding: 5px\">Scikit-Learn</span>\n"
   ]
  },
  {
   "cell_type": "code",
   "execution_count": null,
   "metadata": {
    "id": "GETlrUtOrI1W"
   },
   "outputs": [],
   "source": [
    "import pandas as pd\n",
    "import numpy as np\n",
    "import cv2\n",
    "import matplotlib.pyplot as plt\n",
    "import random\n",
    "%matplotlib inline"
   ]
  },
  {
   "cell_type": "code",
   "execution_count": null,
   "metadata": {
    "id": "ykNWg8dQu6eB"
   },
   "outputs": [],
   "source": [
    "from tensorflow.keras.datasets import cifar10\n",
    "from tensorflow.keras.models import Sequential\n",
    "from keras.utils import np_utils\n",
    "from tensorflow.keras.utils import to_categorical\n",
    "from tensorflow.keras.layers import Dense, Dropout, Conv2D, Flatten,MaxPooling2D, BatchNormalization, Activation,MaxPool2D\n",
    "from sklearn.metrics import classification_report, confusion_matrix\n"
   ]
  },
  {
   "cell_type": "markdown",
   "metadata": {},
   "source": [
    "## **<center><span style=\"color:#FEF1FE;background-color:#023e8a;border-radius: 5px;padding: 5px\">Let Load the datasets from builtin API</span></center>"
   ]
  },
  {
   "cell_type": "code",
   "execution_count": null,
   "metadata": {
    "colab": {
     "base_uri": "https://localhost:8080/"
    },
    "id": "MR4TAuyAu_-F",
    "outputId": "a89c3007-c979-4704-c87d-45af7bd8a295"
   },
   "outputs": [],
   "source": [
    "(x_train, y_train), (x_test, y_test) = cifar10.load_data()"
   ]
  },
  {
   "cell_type": "code",
   "execution_count": null,
   "metadata": {
    "colab": {
     "base_uri": "https://localhost:8080/"
    },
    "id": "3_xh4pj-vYzt",
    "outputId": "45d5e275-12c6-4e86-d117-5974eb541e81"
   },
   "outputs": [],
   "source": [
    "print(f\"shape of x_train: {x_train.shape}\")\n",
    "print(f\"shape of y_train: {y_train.shape}\")\n",
    "print(f\"shape of x_test: {x_test.shape}\")\n",
    "print(f\"shape of y_test: {y_test.shape}\")"
   ]
  },
  {
   "cell_type": "markdown",
   "metadata": {
    "id": "50eBsN_bmfTb"
   },
   "source": [
    "We can see that total number of immages in x_train are 5000 and have shape of 32x32 with three colours(RGB)."
   ]
  },
  {
   "cell_type": "code",
   "execution_count": null,
   "metadata": {
    "colab": {
     "base_uri": "https://localhost:8080/"
    },
    "id": "3xo9u2vPb1mP",
    "outputId": "7ba1a1a5-2f93-4670-f6a7-37c34b9b3ef0"
   },
   "outputs": [],
   "source": [
    "#checking the type\n",
    "print(f\"type of y_train:{type(y_train)}\")\n",
    "print(f\"type of x_train:{type(x_train)}\")\n",
    "print(f\"type of y_test:{type(y_test)}\")\n",
    "print(f\"type of x_test:{type(x_test)}\")"
   ]
  },
  {
   "cell_type": "code",
   "execution_count": null,
   "metadata": {
    "colab": {
     "base_uri": "https://localhost:8080/"
    },
    "id": "s9_oN2gAdBez",
    "outputId": "424d4bf1-aae8-41e7-e097-1298ec259081"
   },
   "outputs": [],
   "source": [
    "y_test[0:2]"
   ]
  },
  {
   "cell_type": "markdown",
   "metadata": {
    "id": "t1EUOv7HrFCY"
   },
   "source": [
    "We can see that data type is not in correct format also we have to normalize our data."
   ]
  },
  {
   "cell_type": "code",
   "execution_count": null,
   "metadata": {
    "colab": {
     "base_uri": "https://localhost:8080/"
    },
    "id": "1lmsVDaYbGej",
    "outputId": "eab6100e-d7fe-401e-c704-0cd5aa5f66c1"
   },
   "outputs": [],
   "source": [
    "y_train[0:2]"
   ]
  },
  {
   "cell_type": "markdown",
   "metadata": {
    "id": "0ibMq0Tud4Q7"
   },
   "source": [
    "We can see that immages are in array format."
   ]
  },
  {
   "cell_type": "code",
   "execution_count": null,
   "metadata": {
    "colab": {
     "base_uri": "https://localhost:8080/"
    },
    "id": "ydP5ezHXd35y",
    "outputId": "315f19f6-90d8-4785-f5b9-c89fc8b8a101"
   },
   "outputs": [],
   "source": [
    "#checking total number of classis and immages in each class in training dataset\n",
    "unique, counts = np.unique(y_train, return_counts=True)\n",
    "train_classes=dict(zip(unique, counts))\n",
    "print(train_classes)"
   ]
  },
  {
   "cell_type": "markdown",
   "metadata": {
    "id": "G7M5n3GukK0B"
   },
   "source": [
    "Totel number of classes are ten and each class have 5000 immages in training set."
   ]
  },
  {
   "cell_type": "code",
   "execution_count": null,
   "metadata": {
    "colab": {
     "base_uri": "https://localhost:8080/"
    },
    "id": "EetM8ikihWOG",
    "outputId": "e0360816-d889-4cc2-c259-097874d92992"
   },
   "outputs": [],
   "source": [
    "#checking total number of classis and immages in each class in training dataset\n",
    "unique, counts = np.unique(y_test, return_counts=True)\n",
    "test_classes=dict(zip(unique, counts))\n",
    "print(test_classes)"
   ]
  },
  {
   "cell_type": "markdown",
   "metadata": {
    "id": "qDMY8xvikVea"
   },
   "source": [
    "Total number of classes are ten and each class have 1000 immages in test set."
   ]
  },
  {
   "cell_type": "markdown",
   "metadata": {
    "id": "mgcySTatj0Md"
   },
   "source": [
    "Now counting the total immages in each set/folder"
   ]
  },
  {
   "cell_type": "code",
   "execution_count": null,
   "metadata": {
    "colab": {
     "base_uri": "https://localhost:8080/"
    },
    "id": "HGvbzDqAMb9w",
    "outputId": "eb8e8a69-f62d-43bb-be2e-acf5c335b4a4"
   },
   "outputs": [],
   "source": [
    "lst=[x_train,y_train,x_test,y_test]\n",
    "No_of_immages=[]\n",
    "for x in lst:\n",
    "  y=len(x)\n",
    "  No_of_immages.append(y)\n",
    "print(No_of_immages)"
   ]
  },
  {
   "cell_type": "code",
   "execution_count": null,
   "metadata": {
    "colab": {
     "base_uri": "https://localhost:8080/"
    },
    "id": "RDNpSM-XV7Ph",
    "outputId": "a527be8f-f9a5-4c0c-e8af-2145354f5424"
   },
   "outputs": [],
   "source": [
    "list1=['x_train',\"y_train\",\"x_test\",\"y_test\"]\n",
    "dict1={}\n",
    "for key in list1:\n",
    "  for  value in No_of_immages:\n",
    "    dict1[key]=value\n",
    "    No_of_immages.remove(value)\n",
    "    break  \n",
    "print(dict1)\n"
   ]
  },
  {
   "cell_type": "code",
   "execution_count": null,
   "metadata": {
    "colab": {
     "base_uri": "https://localhost:8080/"
    },
    "id": "QBo7f3M8YBwz",
    "outputId": "eb4103fb-181d-4d49-ec35-ba9b08bd3d17"
   },
   "outputs": [],
   "source": [
    "dict1"
   ]
  },
  {
   "cell_type": "code",
   "execution_count": null,
   "metadata": {
    "colab": {
     "base_uri": "https://localhost:8080/",
     "height": 514
    },
    "id": "pkd3dnZdvvpn",
    "outputId": "c2d55531-c44c-4e1c-dbcb-f1314063d469"
   },
   "outputs": [],
   "source": [
    "#No of immages \n",
    "plt.figure(figsize=(6,8))\n",
    "plt.bar(dict1.keys(),dict1.values())\n",
    "plt.xlabel(\"Set\")\n",
    "plt.ylabel('No of immages')\n",
    "plt.title(\"Immages in each set/folder\")\n",
    "plt.show()\n"
   ]
  },
  {
   "cell_type": "code",
   "execution_count": null,
   "metadata": {
    "id": "g5s-igc9Z6km"
   },
   "outputs": [],
   "source": [
    "#Plotting some of immages in training dataset\n",
    "def plot_immage(start,end,set1):\n",
    "  \n",
    "  #j=1\n",
    "  for x in range(start,end):\n",
    "    \n",
    "    # reading image from directory\n",
    "    image = set1[x]\n",
    "    \n",
    "    #plt.subplot(1,5,j)\n",
    "    # calling imshow() using plt object\n",
    "    plt.imshow(image)\n",
    "    # displaying the image\n",
    "    plt.show()\n",
    "    #j+=1"
   ]
  },
  {
   "cell_type": "code",
   "execution_count": null,
   "metadata": {
    "colab": {
     "base_uri": "https://localhost:8080/",
     "height": 1000
    },
    "id": "zc2IyzVnPdVr",
    "outputId": "b70f86ef-71c2-4f54-ea66-22a6c299fec5"
   },
   "outputs": [],
   "source": [
    "#If we want to show some immages in different data sets\n",
    "print(\"_________immages in training data____________\")\n",
    "plot_immage(10,15,x_train)# plotting some immages in training set\n",
    "print(\"\")\n",
    "print(\"_________Some of immages in test data____________\")\n",
    "plot_test=plot_immage(100,105,x_test)# plotting some immage in test set"
   ]
  },
  {
   "cell_type": "code",
   "execution_count": null,
   "metadata": {
    "colab": {
     "base_uri": "https://localhost:8080/"
    },
    "id": "YjuaBDdvqbWB",
    "outputId": "f19148df-8042-4dc2-f969-03f7525c00a0"
   },
   "outputs": [],
   "source": [
    "print(x_train.max())\n",
    "print(x_test.max())"
   ]
  },
  {
   "cell_type": "code",
   "execution_count": null,
   "metadata": {
    "colab": {
     "base_uri": "https://localhost:8080/"
    },
    "id": "8EEDuId5tdUG",
    "outputId": "787dc4c7-87e4-49f5-8c60-f2ac52b94328"
   },
   "outputs": [],
   "source": [
    "print(x_train.min())\n",
    "print(x_test.min())"
   ]
  },
  {
   "cell_type": "markdown",
   "metadata": {
    "id": "yh7azI_tnBlk"
   },
   "source": [
    "Checking whether our input data is in correct format."
   ]
  },
  {
   "cell_type": "code",
   "execution_count": null,
   "metadata": {
    "colab": {
     "base_uri": "https://localhost:8080/"
    },
    "id": "ElLog_0TusGU",
    "outputId": "e246b702-512e-4fe0-9cd2-ab5194e14923"
   },
   "outputs": [],
   "source": [
    "x_train.shape"
   ]
  },
  {
   "cell_type": "code",
   "execution_count": null,
   "metadata": {
    "colab": {
     "base_uri": "https://localhost:8080/"
    },
    "id": "cnOwtY4fvBs-",
    "outputId": "8a4d9a88-46b1-4d22-f5a7-9b77ab182424"
   },
   "outputs": [],
   "source": [
    "x_test.shape"
   ]
  },
  {
   "cell_type": "code",
   "execution_count": null,
   "metadata": {
    "colab": {
     "base_uri": "https://localhost:8080/"
    },
    "id": "eKUs1mY6k96d",
    "outputId": "3dae2073-6495-411c-824c-6819da7c6ca2"
   },
   "outputs": [],
   "source": [
    "#data type\n",
    "x_test.dtype"
   ]
  },
  {
   "cell_type": "code",
   "execution_count": null,
   "metadata": {
    "colab": {
     "base_uri": "https://localhost:8080/"
    },
    "id": "N5w15VfIk907",
    "outputId": "680e7e6a-688e-4436-cdc1-aa4aa62133a8"
   },
   "outputs": [],
   "source": [
    "x_train.dtype"
   ]
  },
  {
   "cell_type": "code",
   "execution_count": null,
   "metadata": {
    "colab": {
     "base_uri": "https://localhost:8080/"
    },
    "id": "hJgg8M22njRW",
    "outputId": "fb04aff5-2b77-4173-ad74-cbc967a14c74"
   },
   "outputs": [],
   "source": [
    "#data type is not in correct format so changing the data type to float\n",
    "x_train = x_train.astype('float32')\n",
    "x_test = x_test.astype('float32')\n",
    "print(f\"data type of x_train: {x_train.dtype}\")\n",
    "print(f\"data type of x_test: {x_test.dtype}\")"
   ]
  },
  {
   "cell_type": "markdown",
   "metadata": {
    "id": "O7ZhdcF_tJYw"
   },
   "source": [
    "We can see that the data is not normalized."
   ]
  },
  {
   "cell_type": "code",
   "execution_count": null,
   "metadata": {
    "id": "4DWJ0tfcwSq0"
   },
   "outputs": [],
   "source": [
    "# normalizing\n",
    "x_train =x_train/ 255\n",
    "x_test= x_test/ 255"
   ]
  },
  {
   "cell_type": "code",
   "execution_count": null,
   "metadata": {
    "colab": {
     "base_uri": "https://localhost:8080/"
    },
    "id": "iFpjx2frw5xC",
    "outputId": "5fac876a-500a-462e-8e1f-37aec83b2a12"
   },
   "outputs": [],
   "source": [
    "print(f\"shape of y_train before one-hot encoding: {y_train.shape}\")\n",
    "print(f\"shape of y_test before one-hot encoding: {y_test.shape}\")"
   ]
  },
  {
   "cell_type": "code",
   "execution_count": null,
   "metadata": {
    "colab": {
     "base_uri": "https://localhost:8080/"
    },
    "id": "_5FXziVLpDz_",
    "outputId": "7d0b9e98-71a2-4fa2-b846-e1906ffc40eb"
   },
   "outputs": [],
   "source": [
    "y_train.dtype"
   ]
  },
  {
   "cell_type": "code",
   "execution_count": null,
   "metadata": {
    "colab": {
     "base_uri": "https://localhost:8080/"
    },
    "id": "vE8T4nlVrdyO",
    "outputId": "11f9d264-dd5b-482a-ba42-6d84668774c5"
   },
   "outputs": [],
   "source": [
    "y_test.dtype"
   ]
  },
  {
   "cell_type": "code",
   "execution_count": null,
   "metadata": {
    "colab": {
     "base_uri": "https://localhost:8080/"
    },
    "id": "Uz4bTlddrhTr",
    "outputId": "9207209b-3472-41c5-82c0-f24b307350ba"
   },
   "outputs": [],
   "source": [
    "#changing dtype of y_train and y_test to int\n",
    "y_train = y_train.astype('int')\n",
    "y_test = y_test.astype('int')\n",
    "print(f\"data type of y_train: {y_train.dtype}\")\n",
    "print(f\"data type of y_test: {y_test.dtype}\")"
   ]
  },
  {
   "cell_type": "code",
   "execution_count": null,
   "metadata": {
    "colab": {
     "base_uri": "https://localhost:8080/"
    },
    "id": "g5wscBcttZwR",
    "outputId": "edb3dc7b-0797-4607-dea8-4c8c6911940e"
   },
   "outputs": [],
   "source": [
    "print(\"****a single examples label y_train****\")\n",
    "print(y_train[1])\n",
    "print('')\n",
    "print(\"****a single examples label y_test****\")\n",
    "print(y_test[1])"
   ]
  },
  {
   "cell_type": "markdown",
   "metadata": {
    "id": "U7ggcgsBuJm3"
   },
   "source": [
    "So, before proceeding we want to encode our labels."
   ]
  },
  {
   "cell_type": "code",
   "execution_count": null,
   "metadata": {
    "id": "2CdlqyjLyH3B"
   },
   "outputs": [],
   "source": [
    "#one-hot encoding\n",
    "total_classes=10\n",
    "y_train_en = to_categorical(y_train, total_classes)\n",
    "y_test_en = to_categorical(y_test, total_classes)\n"
   ]
  },
  {
   "cell_type": "code",
   "execution_count": null,
   "metadata": {
    "colab": {
     "base_uri": "https://localhost:8080/"
    },
    "id": "NsnjJyK9x9Qr",
    "outputId": "f199d193-4583-4d26-cfb8-da8049ac9b42"
   },
   "outputs": [],
   "source": [
    "print(f\"shape of y_train after one-hot encoding: {y_train.shape}\")\n",
    "print(f\"shape of y_test after one-hot encoding: {y_test.shape}\")"
   ]
  },
  {
   "cell_type": "code",
   "execution_count": null,
   "metadata": {
    "id": "Ir2vT29rz7We"
   },
   "outputs": [],
   "source": [
    "#building the model\n",
    "model = Sequential()\n",
    "\n",
    "model.add(Conv2D(filters=32, kernel_size=(3,3),strides=(1,1),input_shape=(32, 32, 3), activation='relu'))\n",
    "model.add(BatchNormalization())\n",
    "model.add(Conv2D(64, kernel_size=(3, 3), activation='relu', padding='same'))\n",
    "model.add(BatchNormalization())\n",
    "model.add(MaxPooling2D(2, 2))\n",
    "model.add(Dropout(0.25))\n",
    "\n",
    "model.add(Conv2D(filters=128, kernel_size=(3,3), activation='relu',padding='same'))\n",
    "model.add(BatchNormalization())\n",
    "model.add(Conv2D(filters=128, kernel_size=(3,3), activation='relu',padding='same'))\n",
    "model.add(BatchNormalization())\n",
    "model.add(MaxPooling2D(2, 2))\n",
    "model.add(Dropout(0.25))\n",
    "\n",
    "model.add(Flatten())\n",
    "\n",
    "model.add(Dense(128, activation='relu'))\n",
    "model.add(BatchNormalization())\n",
    "model.add(Dropout(0.4))\n",
    "\n",
    "model.add(Dense(256, activation='relu'))\n",
    "model.add(Dropout(0.5))\n",
    "\n",
    "model.add(Dense(10, activation='softmax'))"
   ]
  },
  {
   "cell_type": "code",
   "execution_count": null,
   "metadata": {
    "colab": {
     "base_uri": "https://localhost:8080/"
    },
    "id": "F3pm0vSK0iTc",
    "outputId": "b3c980d3-85f7-487b-cab5-cd87b971df9d"
   },
   "outputs": [],
   "source": [
    "model.compile(loss='categorical_crossentropy',\n",
    "              optimizer='adamax',\n",
    "              metrics=['accuracy'])\n",
    "model.summary()"
   ]
  },
  {
   "cell_type": "code",
   "execution_count": null,
   "metadata": {
    "id": "W3gWI2EX-c8Z"
   },
   "outputs": [],
   "source": [
    "from keras.callbacks import EarlyStopping\n",
    "#To avoid overfitting early stopping is used\n",
    "earlystop = EarlyStopping(monitor = 'val_loss',\n",
    "                          min_delta = 0,\n",
    "                          patience = 2,\n",
    "                          verbose = 1,\n",
    "                          restore_best_weights = True)\n",
    "callbacks = [earlystop]"
   ]
  },
  {
   "cell_type": "code",
   "execution_count": null,
   "metadata": {
    "colab": {
     "base_uri": "https://localhost:8080/"
    },
    "id": "x1ABTk-f1HzK",
    "outputId": "7fb831e5-9112-4fb5-ea11-f350353dcbbf"
   },
   "outputs": [],
   "source": [
    "history=model.fit(x_train, y_train_en, batch_size=128, epochs=20, validation_data=(x_test, y_test_en),callbacks=callbacks)"
   ]
  },
  {
   "cell_type": "markdown",
   "metadata": {
    "id": "QH3p3Q_R4h-U"
   },
   "source": [
    "We can add more data(data augmentation) and tune our model to decrease overfitting."
   ]
  },
  {
   "cell_type": "code",
   "execution_count": null,
   "metadata": {
    "id": "VHj9a_Dx4FpS"
   },
   "outputs": [],
   "source": [
    "from tensorflow.keras.models import model_from_json\n",
    "model_json = model.to_json()\n",
    "with open(\"model_final.json\", \"w\") as json_file:\n",
    "    json_file.write(model_json)\n",
    "# serialize weights to HDF5\n",
    "model.save_weights(\"model_final.h5\")"
   ]
  },
  {
   "cell_type": "code",
   "execution_count": null,
   "metadata": {
    "id": "63kOku0X_US4"
   },
   "outputs": [],
   "source": [
    "json_file = open('model_final.json', 'r')\n",
    "loaded_model_json = json_file.read()\n",
    "json_file.close()\n",
    "loaded_model = model_from_json(loaded_model_json)\n",
    "# load weights into new model\n",
    "loaded_model.load_weights(\"model_final.h5\")"
   ]
  },
  {
   "cell_type": "code",
   "execution_count": null,
   "metadata": {
    "colab": {
     "base_uri": "https://localhost:8080/",
     "height": 295
    },
    "id": "DUtEHN_A5x08",
    "outputId": "397ec950-5b39-4caf-e0af-9c52ffce1282"
   },
   "outputs": [],
   "source": [
    "#model loss\n",
    "plt.plot(history.history['loss'])\n",
    "plt.plot(history.history['val_loss'])\n",
    "plt.title('model loss')\n",
    "plt.ylabel('loss')\n",
    "plt.xlabel('epoch')\n",
    "plt.legend(['train', 'test'], loc='upper left')\n",
    "plt.show()"
   ]
  },
  {
   "cell_type": "code",
   "execution_count": null,
   "metadata": {
    "colab": {
     "base_uri": "https://localhost:8080/",
     "height": 295
    },
    "id": "YkiWKaKB5y4z",
    "outputId": "94a9ab05-69ef-444b-a7ad-6d01331e121c"
   },
   "outputs": [],
   "source": [
    "#model accuracy\n",
    "plt.plot(history.history['accuracy'])\n",
    "plt.plot(history.history['val_accuracy'])\n",
    "plt.title('model accuracy')\n",
    "plt.ylabel('accuracy')\n",
    "plt.xlabel('epoch')\n",
    "plt.legend(['train', 'test'], loc='upper left')\n",
    "plt.show()"
   ]
  },
  {
   "cell_type": "code",
   "execution_count": null,
   "metadata": {
    "colab": {
     "base_uri": "https://localhost:8080/"
    },
    "id": "QBmKuHPT7bTw",
    "outputId": "8a6bcd61-f9a7-48e9-9172-b72c9b93907f"
   },
   "outputs": [],
   "source": [
    "#model evaluation for test set\n",
    "loss, accuracy=model.evaluate(x_test,y_test_en,verbose=0)\n",
    "print(loss)\n",
    "print(accuracy)"
   ]
  },
  {
   "cell_type": "code",
   "execution_count": null,
   "metadata": {
    "colab": {
     "base_uri": "https://localhost:8080/"
    },
    "id": "xM9ENbRY73kU",
    "outputId": "55b2675c-f9a1-4e6c-e041-e9ab7a5d89d9"
   },
   "outputs": [],
   "source": [
    "#model evaluation for training set\n",
    "loss, accuracy=model.evaluate(x_train,y_train_en,verbose=0)\n",
    "print(\"Model Losses : \",loss)\n",
    "print(\"Model accuracy: \",accuracy)"
   ]
  },
  {
   "cell_type": "code",
   "execution_count": null,
   "metadata": {
    "id": "MDJ_VtfE9k_T"
   },
   "outputs": [],
   "source": [
    "#prediction\n",
    "y_pred = np.argmax(model.predict(x_test), axis=-1)"
   ]
  },
  {
   "cell_type": "code",
   "execution_count": null,
   "metadata": {
    "colab": {
     "base_uri": "https://localhost:8080/"
    },
    "id": "5RqJtTj496bB",
    "outputId": "ac038352-e093-4b00-fc19-52340caba0fd"
   },
   "outputs": [],
   "source": [
    "#confussion metrix\n",
    "confusion_matrix(y_test,y_pred)"
   ]
  },
  {
   "cell_type": "code",
   "execution_count": null,
   "metadata": {
    "colab": {
     "base_uri": "https://localhost:8080/"
    },
    "id": "LfWnFIrO9qUQ",
    "outputId": "74eb2159-f628-41ac-c7d8-bfaf8b0c0b91"
   },
   "outputs": [],
   "source": [
    "#classification report\n",
    "print(classification_report(y_test,y_pred))"
   ]
  },
  {
   "cell_type": "code",
   "execution_count": null,
   "metadata": {},
   "outputs": [],
   "source": []
  }
 ],
 "metadata": {
  "colab": {
   "collapsed_sections": [],
   "name": "Immage-Classification-with-cifer10-dataset.ipynb",
   "provenance": []
  },
  "kernelspec": {
   "display_name": "Python 3 (ipykernel)",
   "language": "python",
   "name": "python3"
  },
  "language_info": {
   "codemirror_mode": {
    "name": "ipython",
    "version": 3
   },
   "file_extension": ".py",
   "mimetype": "text/x-python",
   "name": "python",
   "nbconvert_exporter": "python",
   "pygments_lexer": "ipython3",
   "version": "3.7.11"
  }
 },
 "nbformat": 4,
 "nbformat_minor": 4
}
