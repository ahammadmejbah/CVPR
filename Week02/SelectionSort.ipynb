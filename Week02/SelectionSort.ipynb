{
 "cells": [
  {
   "cell_type": "code",
   "execution_count": 6,
   "id": "9b8e2437-1c88-48d6-8af9-ffc2263be5cc",
   "metadata": {},
   "outputs": [
    {
     "name": "stdout",
     "output_type": "stream",
     "text": [
      "[62, 271, 287, 305, 372, 526, 609, 700, 799, 854, 1020, 1131, 1206, 1211, 1359, 1467, 1512, 1627, 1742, 1787, 1927, 1972, 1998, 2044, 2092, 2158, 2413, 2458, 2487, 2544, 2699, 2705, 2969, 3239, 3457, 3528, 3638, 3712, 3775, 3798, 3834, 3845, 4083, 4132, 4353, 4448, 4510, 4551, 4557, 4562, 4614, 4803, 5206, 5428, 5470, 5477, 5582, 5583, 5728, 5730, 5746, 5757, 5925, 5927, 5936, 5952, 6134, 6231, 6269, 6329, 6516, 6791, 6878, 6934, 6986, 6993, 7369, 7429, 7495, 7558, 7576, 7615, 7636, 7803, 7820, 7833, 7883, 7908, 7942, 8272, 8565, 8695, 9043, 9286, 9367, 9382, 9456, 9794, 9832]\n",
      "\n",
      "The code took 1 milliseconds to complete\n"
     ]
    }
   ],
   "source": []
  },
  {
   "cell_type": "code",
   "execution_count": null,
   "id": "475742d7-3fda-427d-bf0a-59636a176de1",
   "metadata": {},
   "outputs": [],
   "source": [
    "import random \n",
    "import time\n",
    "\n",
    "def selectionSort(alist):\n",
    "    a = alist\n",
    "    for times in range(len(a)-1, 0, -1):\n",
    "        largest_num_pos = 0\n",
    "        for place in range(1, times + 1):\n",
    "            \n",
    "            if(a[place] > a[largest_num_pos]):\n",
    "                largest_num_pos = place\n",
    "\n",
    "        holder = a[times]\n",
    "        a[times] = a[largest_num_pos]\n",
    "        a[largest_num_pos] = holder\n",
    "        \n",
    "    return a\n",
    "\n",
    "test = []\n",
    "for var in range(1, 100):\n",
    "    number = random.randint(0, 10000)\n",
    "    test.append(number)\n",
    "\n",
    "\n",
    "current_time = int(round(time.time() * 1000))\n",
    "\n",
    "toPrint = selectionSort(test)\n",
    "print(toPrint)\n",
    "\n",
    "\n",
    "current_time2 = int(round(time.time() * 1000))\n",
    "\n",
    "\n",
    "totalTime = current_time2 - current_time\n",
    "\n",
    "print(\"\\nThe code took %d milliseconds to complete\" % (totalTime))"
   ]
  },
  {
   "cell_type": "code",
   "execution_count": null,
   "id": "241a95a3-5b9e-4fdd-85e7-5b6e18f8a12b",
   "metadata": {},
   "outputs": [],
   "source": []
  }
 ],
 "metadata": {
  "kernelspec": {
   "display_name": "Python 3 (ipykernel)",
   "language": "python",
   "name": "python3"
  },
  "language_info": {
   "codemirror_mode": {
    "name": "ipython",
    "version": 3
   },
   "file_extension": ".py",
   "mimetype": "text/x-python",
   "name": "python",
   "nbconvert_exporter": "python",
   "pygments_lexer": "ipython3",
   "version": "3.7.11"
  }
 },
 "nbformat": 4,
 "nbformat_minor": 5
}
